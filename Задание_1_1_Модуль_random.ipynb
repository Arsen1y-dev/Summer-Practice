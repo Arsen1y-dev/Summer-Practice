{
  "nbformat": 4,
  "nbformat_minor": 0,
  "metadata": {
    "colab": {
      "provenance": [],
      "authorship_tag": "ABX9TyNZ8vU1/vbxYGfVAoPJHlha",
      "include_colab_link": true
    },
    "kernelspec": {
      "name": "python3",
      "display_name": "Python 3"
    },
    "language_info": {
      "name": "python"
    }
  },
  "cells": [
    {
      "cell_type": "markdown",
      "metadata": {
        "id": "view-in-github",
        "colab_type": "text"
      },
      "source": [
        "<a href=\"https://colab.research.google.com/github/Arsen1y-dev/Summer-Practice/blob/main/%D0%97%D0%B0%D0%B4%D0%B0%D0%BD%D0%B8%D0%B5_1_1_%D0%9C%D0%BE%D0%B4%D1%83%D0%BB%D1%8C_random.ipynb\" target=\"_parent\"><img src=\"https://colab.research.google.com/assets/colab-badge.svg\" alt=\"Open In Colab\"/></a>"
      ]
    },
    {
      "cell_type": "markdown",
      "source": [
        "#Задание 1.1 Модуль random"
      ],
      "metadata": {
        "id": "losjcYjzMXZZ"
      }
    },
    {
      "cell_type": "markdown",
      "source": [
        "id — случайное пятизначное число,\n",
        "логин — случайная последовательность из 6 маленьких английских букв,\n",
        "пароль — случайная последовательность из 10 неповторяющихся больших и маленьких английских букв и цифр\n",
        "\n",
        "\n",
        "Создайте функцию генерации id, функцию генерации логина и функцию генерации пароля. С использованием этих трёх функций напишите функцию, генерирующую список из N троек вида\n",
        "\n",
        "(id, логин, пароль),\n",
        "\n",
        "в которых ни id, ни логины, ни пароли не повторяются (при этом повторный вызов функции не должен учитывать результаты предыдущей генерации). Также должны выполняться следующие условия:\n",
        "\n",
        "(гласными считаем «aeiou», * можно учитывать «y» по правилу \"если буква «y» является первой буквой в слове, или перед ней стоит согласная буква, то считаем её гласной, иначе согласной\") \\\n",
        "26) в id есть хотя бы одна «7», в логине ровно три согласные, в пароле есть хотя бы одна большая буква и хотя бы одна нечётная цифра.\n"
      ],
      "metadata": {
        "id": "SHVeX4ED569d"
      }
    },
    {
      "cell_type": "code",
      "source": [
        "import random\n",
        "import string"
      ],
      "metadata": {
        "id": "Tz7NLsC756Lx"
      },
      "execution_count": null,
      "outputs": []
    },
    {
      "cell_type": "markdown",
      "source": [
        "### Функция для генерации случайного пятизначного числа с хотя бы одной \"7\""
      ],
      "metadata": {
        "id": "oP9S2oAJ6RWH"
      }
    },
    {
      "cell_type": "code",
      "source": [
        "def generate_id():\n",
        "    while True:\n",
        "        id = random.randint(10000, 99999)\n",
        "        if '7' in str(id):\n",
        "            return id\n"
      ],
      "metadata": {
        "id": "2pqLvc5f6L1l"
      },
      "execution_count": null,
      "outputs": []
    },
    {
      "cell_type": "markdown",
      "source": [
        "### Функция для генерации случайного логина из 6 маленьких английских букв с ровно тремя согласными\n"
      ],
      "metadata": {
        "id": "TwGIauOX6Y2i"
      }
    },
    {
      "cell_type": "code",
      "source": [
        "def generate_login():\n",
        "    vowels = 'aeiou'  # Гласные буквы\n",
        "    consonants = ''.join(set(string.ascii_lowercase) - set(vowels))\n",
        "\n",
        "    login = random.choices(consonants, k=3) + random.choices(vowels, k=3)\n",
        "    random.shuffle(login)\n",
        "    return ''.join(login)"
      ],
      "metadata": {
        "id": "AKPThJ256eLp"
      },
      "execution_count": null,
      "outputs": []
    },
    {
      "cell_type": "markdown",
      "source": [
        "### Функция для генерации случайного пароля из 10 неповторяющихся больших и маленьких английских букв и цифр"
      ],
      "metadata": {
        "id": "SnHlKx-D6jx9"
      }
    },
    {
      "cell_type": "code",
      "source": [
        "def generate_password():\n",
        "    capital = random.choice(string.ascii_uppercase)\n",
        "    uneven = random.choice([x for x in range(10) if x % 2 != 0])\n",
        "    characters = ''.join(set(string.ascii_letters + string.digits) - set(capital) - set(str(uneven)))\n",
        "    password = random.sample(characters, k=8) + [capital, uneven]\n",
        "    random.shuffle(password)\n",
        "\n",
        "    return ''.join([str(x) for x in password])"
      ],
      "metadata": {
        "id": "q_vMJ3ln6j6Q"
      },
      "execution_count": null,
      "outputs": []
    },
    {
      "cell_type": "markdown",
      "source": [
        "### Функция для генерации списка уникальных троек (id, логин, пароль)"
      ],
      "metadata": {
        "id": "NlhG_KXd6o17"
      }
    },
    {
      "cell_type": "code",
      "source": [
        "def generate_threes(n):\n",
        "    ids = set()\n",
        "    logins = set()\n",
        "    passwords = set()\n",
        "    triples = []\n",
        "\n",
        "    while len(triples) < n:\n",
        "        id = generate_id()\n",
        "        while id in ids:\n",
        "            id = generate_id()\n",
        "        ids.add(id)\n",
        "\n",
        "        login = generate_login()\n",
        "        while login in logins:\n",
        "            login = generate_login()\n",
        "        logins.add(login)\n",
        "\n",
        "        password = generate_password()\n",
        "        while password in passwords:\n",
        "            password = generate_password()\n",
        "        passwords.add(password)\n",
        "\n",
        "        triples.append((id, login, password))\n",
        "\n",
        "    return triples"
      ],
      "metadata": {
        "id": "kXMsqFNF6sGo"
      },
      "execution_count": null,
      "outputs": []
    },
    {
      "cell_type": "markdown",
      "source": [
        "#### Пример использования функции"
      ],
      "metadata": {
        "id": "n15KrCuz6uPj"
      }
    },
    {
      "cell_type": "code",
      "source": [
        "n = 10\n",
        "triples = generate_threes(n)\n",
        "print(\"Список уникальных троек:\")\n",
        "for triple in triples:\n",
        "    print(triple)"
      ],
      "metadata": {
        "colab": {
          "base_uri": "https://localhost:8080/"
        },
        "id": "5cqqV-cC6wXG",
        "outputId": "e4ee47a2-f451-413a-8bca-0db3290407fa"
      },
      "execution_count": null,
      "outputs": [
        {
          "output_type": "stream",
          "name": "stdout",
          "text": [
            "Список уникальных троек:\n",
            "(56711, 'zdguiu', 'FhD0l9PTgu')\n",
            "(48017, 'oojamj', 'VWdAZc3w7p')\n",
            "(72172, 'aodrag', '7JktrYRo9z')\n",
            "(27542, 'mauqix', 'KoV5kYTp7e')\n",
            "(57654, 'razege', 'ZUBYrps5JS')\n",
            "(67053, 'qilubu', 'L7QRVx5kAM')\n",
            "(64407, 'owgpii', '7QNc2Dv1Yu')\n",
            "(23704, 'tkikeo', 'XFJ4ZEWuc7')\n",
            "(57498, 'itwgeo', '3OMjCFzGDY')\n",
            "(87306, 'tkuabi', '8i3ejWkQXt')\n"
          ]
        }
      ]
    }
  ]
}