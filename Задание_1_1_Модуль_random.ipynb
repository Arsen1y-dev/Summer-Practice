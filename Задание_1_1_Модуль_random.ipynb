{
  "cells": [
    {
      "cell_type": "markdown",
      "metadata": {
        "colab_type": "text",
        "id": "view-in-github"
      },
      "source": [
        "<a href=\"https://colab.research.google.com/github/Arsen1y-dev/Summer-Practice/blob/main/%D0%97%D0%B0%D0%B4%D0%B0%D0%BD%D0%B8%D0%B5_1_1_%D0%9C%D0%BE%D0%B4%D1%83%D0%BB%D1%8C_random.ipynb\" target=\"_parent\"><img src=\"https://colab.research.google.com/assets/colab-badge.svg\" alt=\"Open In Colab\"/></a>"
      ]
    },
    {
      "cell_type": "markdown",
      "metadata": {},
      "source": []
    },
    {
      "cell_type": "markdown",
      "metadata": {
        "id": "losjcYjzMXZZ"
      },
      "source": [
        "#Задание 1.1 Модуль random"
      ]
    },
    {
      "cell_type": "markdown",
      "metadata": {
        "id": "SHVeX4ED569d"
      },
      "source": [
        "id — случайное пятизначное число,\n",
        "логин — случайная последовательность из 6 маленьких английских букв,\n",
        "пароль — случайная последовательность из 10 неповторяющихся больших и маленьких английских букв и цифр\n",
        "\n",
        "\n",
        "Создайте функцию генерации id, функцию генерации логина и функцию генерации пароля. С использованием этих трёх функций напишите функцию, генерирующую список из N троек вида\n",
        "\n",
        "(id, логин, пароль),\n",
        "\n",
        "в которых ни id, ни логины, ни пароли не повторяются (при этом повторный вызов функции не должен учитывать результаты предыдущей генерации). Также должны выполняться следующие условия:\n",
        "\n",
        "(гласными считаем «aeiou», * можно учитывать «y» по правилу \"если буква «y» является первой буквой в слове, или перед ней стоит согласная буква, то считаем её гласной, иначе согласной\") \\\n",
        "26) в id есть хотя бы одна «7», в логине ровно три согласные, в пароле есть хотя бы одна большая буква и хотя бы одна нечётная цифра.\n"
      ]
    },
    {
      "cell_type": "code",
      "execution_count": 1,
      "metadata": {
        "id": "Tz7NLsC756Lx"
      },
      "outputs": [],
      "source": [
        "import random\n",
        "import string"
      ]
    },
    {
      "cell_type": "markdown",
      "metadata": {
        "id": "oP9S2oAJ6RWH"
      },
      "source": [
        "### Функция для генерации случайного пятизначного числа с хотя бы одной \"7\""
      ]
    },
    {
      "cell_type": "code",
      "execution_count": 2,
      "metadata": {
        "id": "2pqLvc5f6L1l"
      },
      "outputs": [],
      "source": [
        "def generate_id():\n",
        "    while True:\n",
        "        id = random.randint(10000, 99999)\n",
        "        if '7' in str(id):\n",
        "            return id\n"
      ]
    },
    {
      "cell_type": "markdown",
      "metadata": {
        "id": "TwGIauOX6Y2i"
      },
      "source": [
        "### Функция для генерации случайного логина из 6 маленьких английских букв с ровно тремя согласными\n"
      ]
    },
    {
      "cell_type": "code",
      "execution_count": 3,
      "metadata": {
        "id": "AKPThJ256eLp"
      },
      "outputs": [],
      "source": [
        "def generate_login():\n",
        "    vowels = 'aeiou'  # Гласные буквы\n",
        "    consonants = ''.join(set(string.ascii_lowercase) - set(vowels))\n",
        "\n",
        "    login = random.choices(consonants, k=3) + random.choices(vowels, k=3)\n",
        "    random.shuffle(login)\n",
        "    return ''.join(login)"
      ]
    },
    {
      "cell_type": "markdown",
      "metadata": {
        "id": "SnHlKx-D6jx9"
      },
      "source": [
        "### Функция для генерации случайного пароля из 10 неповторяющихся больших и маленьких английских букв и цифр"
      ]
    },
    {
      "cell_type": "code",
      "execution_count": 4,
      "metadata": {
        "id": "q_vMJ3ln6j6Q"
      },
      "outputs": [],
      "source": [
        "def generate_password():\n",
        "    capital = random.choice(string.ascii_uppercase)\n",
        "    uneven = random.choice([x for x in range(10) if x % 2 != 0])\n",
        "    characters = ''.join(set(string.ascii_letters + string.digits) - set(capital) - set(str(uneven)))\n",
        "    password = random.sample(characters, k=8) + [capital, uneven]\n",
        "    random.shuffle(password)\n",
        "\n",
        "    return ''.join([str(x) for x in password])"
      ]
    },
    {
      "cell_type": "markdown",
      "metadata": {
        "id": "NlhG_KXd6o17"
      },
      "source": [
        "### Функция для генерации списка уникальных троек (id, логин, пароль)"
      ]
    },
    {
      "cell_type": "code",
      "execution_count": 5,
      "metadata": {
        "id": "kXMsqFNF6sGo"
      },
      "outputs": [],
      "source": [
        "def generate_threes(n):\n",
        "    ids = set()\n",
        "    logins = set()\n",
        "    passwords = set()\n",
        "    triples = []\n",
        "\n",
        "    while len(triples) < n:\n",
        "        id = generate_id()\n",
        "        while id in ids:\n",
        "            id = generate_id()\n",
        "        ids.add(id)\n",
        "\n",
        "        login = generate_login()\n",
        "        while login in logins:\n",
        "            login = generate_login()\n",
        "        logins.add(login)\n",
        "\n",
        "        password = generate_password()\n",
        "        while password in passwords:\n",
        "            password = generate_password()\n",
        "        passwords.add(password)\n",
        "\n",
        "        triples.append((id, login, password))\n",
        "\n",
        "    return triples"
      ]
    },
    {
      "cell_type": "markdown",
      "metadata": {
        "id": "n15KrCuz6uPj"
      },
      "source": [
        "#### Пример использования функции"
      ]
    },
    {
      "cell_type": "code",
      "execution_count": 6,
      "metadata": {
        "colab": {
          "base_uri": "https://localhost:8080/"
        },
        "id": "5cqqV-cC6wXG",
        "outputId": "e4ee47a2-f451-413a-8bca-0db3290407fa"
      },
      "outputs": [
        {
          "name": "stdout",
          "output_type": "stream",
          "text": [
            "Список уникальных троек:\n",
            "(79653, 'mufwio', 'WTPXGkNbM1')\n",
            "(65705, 'auosjj', 'DKjeMtB83c')\n",
            "(79816, 'ohzpio', 'TfMuO5Gt8R')\n",
            "(70742, 'rurqea', 'g58lc7AOLD')\n",
            "(91037, 'bneeak', 'ePfDUE3IGj')\n",
            "(52227, 'ozmsoe', 'JkHY63RBD1')\n",
            "(67348, 'uimkeb', 'jX3ptuNegE')\n",
            "(42750, 'jauixd', 'UApQS7n4lV')\n",
            "(15937, 'aqwiro', 'l3LhzAZP98')\n",
            "(52745, 'vfhaeo', 'S5qFbkp9Uv')\n"
          ]
        }
      ],
      "source": [
        "n = 10\n",
        "triples = generate_threes(n)\n",
        "print(\"Список уникальных троек:\")\n",
        "for triple in triples:\n",
        "    print(triple)"
      ]
    }
  ],
  "metadata": {
    "colab": {
      "authorship_tag": "ABX9TyNZ8vU1/vbxYGfVAoPJHlha",
      "include_colab_link": true,
      "provenance": []
    },
    "kernelspec": {
      "display_name": "Python 3",
      "name": "python3"
    },
    "language_info": {
      "codemirror_mode": {
        "name": "ipython",
        "version": 3
      },
      "file_extension": ".py",
      "mimetype": "text/x-python",
      "name": "python",
      "nbconvert_exporter": "python",
      "pygments_lexer": "ipython3",
      "version": "3.undefined.undefined"
    }
  },
  "nbformat": 4,
  "nbformat_minor": 0
}
