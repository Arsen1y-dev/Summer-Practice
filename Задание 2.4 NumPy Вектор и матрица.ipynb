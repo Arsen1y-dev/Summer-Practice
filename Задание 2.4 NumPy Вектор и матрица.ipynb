{
 "cells": [
  {
   "cell_type": "markdown",
   "metadata": {},
   "source": [
    "Задание 2.4 NumPy Вектор и матрица"
   ]
  },
  {
   "cell_type": "markdown",
   "metadata": {},
   "source": [
    "Примечание 1. Считать, что размерности вектора и матрицы соответствуют выполняемым операциям.\n",
    "Примечание 2. Фраза умножение в обратном порядке означает, что умножение происходит по правилу: последний элемент строки на первый элемент вектора, …, первый элемент строки на последний элемент вектора."
   ]
  },
  {
   "cell_type": "markdown",
   "metadata": {},
   "source": [
    "5. Дан вектор 𝑥 и матрица 𝐴. Умножить все нечетные столбцы матрицы 𝐴 на вектор 𝑥. \n",
    "Результат записать в новую матрицу и разделить ее на максимальный элемент вектора 𝑥 (гарантируется, что это не ноль)."
   ]
  },
  {
   "cell_type": "code",
   "execution_count": 1,
   "metadata": {},
   "outputs": [],
   "source": [
    "import numpy as np"
   ]
  },
  {
   "cell_type": "code",
   "execution_count": 8,
   "metadata": {},
   "outputs": [
    {
     "name": "stdout",
     "output_type": "stream",
     "text": [
      "Матрица после умножения:\n",
      " [[25  0 15  3 35]\n",
      " [28  9 12  5  8]\n",
      " [ 6  4 21  6  3]\n",
      " [16  8  2  6  0]\n",
      " [ 7  7  8  1  1]]\n",
      "Матрица после умножения и деления:\n",
      " [[5.  0.  3.  0.6 7. ]\n",
      " [5.6 1.8 2.4 1.  1.6]\n",
      " [1.2 0.8 4.2 1.2 0.6]\n",
      " [3.2 1.6 0.4 1.2 0. ]\n",
      " [1.4 1.4 1.6 0.2 0.2]]\n"
     ]
    }
   ],
   "source": [
    "import numpy as np\n",
    "\n",
    "x = np.array([1, 2, 3, 4, 5]) \n",
    "\n",
    "A = np.array([\n",
    "    [5, 0, 3, 3, 7],\n",
    "    [7, 9, 3, 5, 2],\n",
    "    [2, 4, 7, 6, 1],\n",
    "    [8, 8, 1, 6, 0],\n",
    "    [7, 7, 8, 1, 1]\n",
    "])  \n",
    "\n",
    "max_x = np.max(x)\n",
    "\n",
    "# Определим индексы нечетных столбцов (индексация с нуля, поэтому 0, 2, 4 - это 1-й, 3-й, 5-й столбцы)\n",
    "с = np.arange(0, A.shape[1], 2)\n",
    "\n",
    "new_A = A.copy()\n",
    "new_A[:, с] = A[:, с] * x[::-1][:, np.newaxis]\n",
    "print(\"Матрица после умножения:\\n\", new_A)\n",
    "\n",
    "result_matrix = new_A / max_x\n",
    "print(\"Матрица после умножения и деления:\\n\", result_matrix)"
   ]
  }
 ],
 "metadata": {
  "kernelspec": {
   "display_name": "Python 3",
   "language": "python",
   "name": "python3"
  },
  "language_info": {
   "codemirror_mode": {
    "name": "ipython",
    "version": 3
   },
   "file_extension": ".py",
   "mimetype": "text/x-python",
   "name": "python",
   "nbconvert_exporter": "python",
   "pygments_lexer": "ipython3",
   "version": "3.11.7"
  }
 },
 "nbformat": 4,
 "nbformat_minor": 2
}
