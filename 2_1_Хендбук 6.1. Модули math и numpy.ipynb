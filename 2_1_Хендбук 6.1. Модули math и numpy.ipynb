{
 "cells": [
  {
   "cell_type": "markdown",
   "metadata": {},
   "source": [
    "6.1. Модули math и numpy"
   ]
  },
  {
   "cell_type": "markdown",
   "metadata": {},
   "source": [
    "Математика — круто, но это не точно"
   ]
  },
  {
   "cell_type": "code",
   "execution_count": 1,
   "metadata": {},
   "outputs": [
    {
     "name": "stdout",
     "output_type": "stream",
     "text": [
      "0.4818035253577275\n"
     ]
    }
   ],
   "source": [
    "import math as m\n",
    "\n",
    "\n",
    "def f(x):\n",
    "    term1 = m.log(m.pow(x, 3 / 16), 32)\n",
    "    term2 = m.pow(x, m.cos((m.pi * x) / (2 * m.e)))\n",
    "    term3 = m.pow(m.sin(x / m.pi), 2)\n",
    "    return term1 + term2 - term3\n",
    "\n",
    "\n",
    "x = float(input())\n",
    "print(f(x)) "
   ]
  },
  {
   "cell_type": "markdown",
   "metadata": {},
   "source": [
    "Потоковый НОД"
   ]
  },
  {
   "cell_type": "code",
   "execution_count": null,
   "metadata": {},
   "outputs": [],
   "source": [
    "import sys\n",
    "import math\n",
    "from functools import reduce\n",
    "\n",
    "\n",
    "def gcd_multiple(numbers):\n",
    "    return reduce(math.gcd, numbers)\n",
    "\n",
    "\n",
    "input_data = sys.stdin.read().strip().split('\\n')\n",
    "\n",
    "for line in input_data:\n",
    "    numbers = list(map(int, line.split()))\n",
    "    print(gcd_multiple(numbers))"
   ]
  },
  {
   "cell_type": "markdown",
   "metadata": {},
   "source": [
    "Есть варианты?"
   ]
  },
  {
   "cell_type": "code",
   "execution_count": 8,
   "metadata": {},
   "outputs": [
    {
     "name": "stdout",
     "output_type": "stream",
     "text": [
      "3 6\n"
     ]
    }
   ],
   "source": [
    "import math\n",
    "\n",
    "\n",
    "def calculate_probability(N, M):\n",
    "    total_combinations = math.comb(N, M)\n",
    "    \n",
    "    favorable_combinations = math.comb(N - 1, M - 1)\n",
    "    \n",
    "    return favorable_combinations, total_combinations\n",
    "\n",
    "\n",
    "N, M = map(int, input().strip().split())\n",
    "\n",
    "favorable, total = calculate_probability(N, M)\n",
    "\n",
    "print(favorable, total)"
   ]
  },
  {
   "cell_type": "markdown",
   "metadata": {},
   "source": [
    "Среднее не арифметическое"
   ]
  },
  {
   "cell_type": "code",
   "execution_count": 11,
   "metadata": {},
   "outputs": [
    {
     "name": "stdout",
     "output_type": "stream",
     "text": [
      "2.605171084697352\n"
     ]
    }
   ],
   "source": [
    "import math as m\n",
    "\n",
    "n = list(map(float, input().split()))\n",
    "print(m.pow(m.prod(n), 1 / len(n)))"
   ]
  },
  {
   "cell_type": "markdown",
   "metadata": {},
   "source": [
    "Шаг навстречу"
   ]
  },
  {
   "cell_type": "code",
   "execution_count": 12,
   "metadata": {},
   "outputs": [
    {
     "name": "stdout",
     "output_type": "stream",
     "text": [
      "20.0\n"
     ]
    }
   ],
   "source": [
    "from math import sin, cos, dist\n",
    "\n",
    "Deca_x, Deca_y = map(float, input().split())\n",
    "Poly_r, Poly_f = map(float, input().split())\n",
    "\n",
    "Poly_x = Poly_r * cos(Poly_f)\n",
    "Poly_y = Poly_r * sin(Poly_f)\n",
    "\n",
    "print(dist((Deca_x, Deca_y), (Poly_x, Poly_y)))"
   ]
  },
  {
   "cell_type": "markdown",
   "metadata": {},
   "source": [
    "Матрица умножения"
   ]
  },
  {
   "cell_type": "code",
   "execution_count": 2,
   "metadata": {},
   "outputs": [],
   "source": [
    "import numpy as np\n",
    "\n",
    "\n",
    "def multiplication_matrix(N):\n",
    "    matrix = np.zeros((N, N), dtype=int)\n",
    "    \n",
    "    for i in range(1, N + 1):\n",
    "        for j in range(1, N + 1):\n",
    "            matrix[i - 1, j - 1] = i * j\n",
    "    \n",
    "    return matrix\n"
   ]
  },
  {
   "cell_type": "markdown",
   "metadata": {},
   "source": [
    "Шахматная подготовка"
   ]
  },
  {
   "cell_type": "code",
   "execution_count": 3,
   "metadata": {},
   "outputs": [],
   "source": [
    "import numpy as np\n",
    "\n",
    "\n",
    "def make_board(size):\n",
    "    board = np.zeros((size, size), dtype=np.int8)\n",
    "    \n",
    "    for i in range(size):\n",
    "        for j in range(size):\n",
    "            board[i, j] = (i + j + 1) % 2\n",
    "    \n",
    "    return board"
   ]
  },
  {
   "cell_type": "markdown",
   "metadata": {},
   "source": [
    "Числовая змейка 3.0"
   ]
  },
  {
   "cell_type": "code",
   "execution_count": 4,
   "metadata": {},
   "outputs": [],
   "source": [
    "import numpy as np\n",
    "\n",
    "\n",
    "def snake(m, n, direction='H'):\n",
    "    matrix = np.zeros((n, m), dtype=np.int16)\n",
    "    num = 1\n",
    "    if direction == 'H':\n",
    "        for i in range(n):\n",
    "            if not i % 2:\n",
    "                matrix[i] = np.arange(num, num + m)\n",
    "            else:\n",
    "                matrix[i] = np.arange(num + m - 1, num - 1, -1)\n",
    "            num += m\n",
    "    else:\n",
    "        for j in range(m):\n",
    "            if not j % 2:\n",
    "                matrix[:, j] = np.arange(num, num + n)\n",
    "            else:\n",
    "                matrix[:, j] = np.arange(num + n - 1, num - 1, -1)\n",
    "            num += n\n",
    "    return matrix"
   ]
  },
  {
   "cell_type": "markdown",
   "metadata": {},
   "source": [
    "Вращение"
   ]
  },
  {
   "cell_type": "code",
   "execution_count": 5,
   "metadata": {},
   "outputs": [],
   "source": [
    "import numpy as np\n",
    "\n",
    "\n",
    "def rotate(matrix, angle):\n",
    "    return np.rot90(matrix, (360 - angle) // 90)"
   ]
  },
  {
   "cell_type": "markdown",
   "metadata": {},
   "source": [
    "Лесенка"
   ]
  },
  {
   "cell_type": "code",
   "execution_count": 6,
   "metadata": {},
   "outputs": [],
   "source": [
    "import numpy as np\n",
    "\n",
    "\n",
    "def stairs(vector):\n",
    "    n = len(vector)\n",
    "    matrix = np.zeros((n, n), dtype=vector.dtype)\n",
    "    \n",
    "    for i in range(n):\n",
    "        matrix[i] = np.roll(vector, i)\n",
    "        \n",
    "    return matrix"
   ]
  }
 ],
 "metadata": {
  "kernelspec": {
   "display_name": "Python 3",
   "language": "python",
   "name": "python3"
  },
  "language_info": {
   "codemirror_mode": {
    "name": "ipython",
    "version": 3
   },
   "file_extension": ".py",
   "mimetype": "text/x-python",
   "name": "python",
   "nbconvert_exporter": "python",
   "pygments_lexer": "ipython3",
   "version": "3.11.7"
  }
 },
 "nbformat": 4,
 "nbformat_minor": 2
}
