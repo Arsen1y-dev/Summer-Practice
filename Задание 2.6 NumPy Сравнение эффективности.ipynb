{
 "cells": [
  {
   "cell_type": "markdown",
   "metadata": {},
   "source": [
    "Задание 2.6 NumPy Сравнение эффективности"
   ]
  },
  {
   "cell_type": "markdown",
   "metadata": {},
   "source": [
    "Написать программу, реализующую алгоритм из индивидуального задания с использованием list, \n",
    "замерить время выполнения и сравнить с готовой реализацией алгоритма из библиотеки NumPy. \n",
    "Для более полного анализа проводить сравнения на разных размерностях входных данных. \n",
    "Например, для матриц можно взять три варианта реализации: 10 × 10, 100 × 100, 500 × 500. \n",
    "(В зависимости от задания время выполнения алгоритма на больших размерностях может быть очень большим, в этом случае размерности можно уменьшить. \n",
    "И наоборот: при необходимости можно увеличить размерность или повторить действия несколько раз и усреднить результаты)"
   ]
  },
  {
   "cell_type": "markdown",
   "metadata": {},
   "source": [
    "5. Вычислить норму вектора в L1."
   ]
  },
  {
   "cell_type": "code",
   "execution_count": 1,
   "metadata": {},
   "outputs": [],
   "source": [
    "import numpy as np"
   ]
  },
  {
   "cell_type": "code",
   "execution_count": 11,
   "metadata": {},
   "outputs": [
    {
     "name": "stdout",
     "output_type": "stream",
     "text": [
      "Размерность: 10x10\n",
      "List-реализация:\n",
      "CPU times: user 49 µs, sys: 5 µs, total: 54 µs\n",
      "Wall time: 130 µs\n",
      "NumPy-реализация:\n",
      "CPU times: user 74 µs, sys: 159 µs, total: 233 µs\n",
      "Wall time: 379 µs\n",
      "----------------------------------------------------\n",
      "Размерность: 100x100\n",
      "List-реализация:\n",
      "CPU times: user 1.09 ms, sys: 760 µs, total: 1.85 ms\n",
      "Wall time: 13.4 ms\n",
      "NumPy-реализация:\n",
      "CPU times: user 125 µs, sys: 95 µs, total: 220 µs\n",
      "Wall time: 212 µs\n",
      "----------------------------------------------------\n",
      "Размерность: 500x500\n",
      "List-реализация:\n",
      "CPU times: user 23.3 ms, sys: 341 µs, total: 23.6 ms\n",
      "Wall time: 28.9 ms\n",
      "NumPy-реализация:\n",
      "CPU times: user 155 µs, sys: 232 µs, total: 387 µs\n",
      "Wall time: 388 µs\n",
      "----------------------------------------------------\n",
      "Размерность: 2000x2000\n",
      "List-реализация:\n",
      "CPU times: user 322 ms, sys: 2.23 ms, total: 324 ms\n",
      "Wall time: 329 ms\n",
      "NumPy-реализация:\n",
      "CPU times: user 2.23 ms, sys: 2.73 ms, total: 4.96 ms\n",
      "Wall time: 4.88 ms\n",
      "----------------------------------------------------\n"
     ]
    }
   ],
   "source": [
    "def l1_norm_list(vector):\n",
    "  return sum(abs(x) for x in vector)\n",
    "\n",
    "\n",
    "def l1_norm_numpy(vector):\n",
    "  return np.linalg.norm(vector, ord=1)\n",
    "\n",
    "s = [10, 100, 500, 2000]\n",
    "\n",
    "for a in s:\n",
    "  print(f\"Размерность: {a}x{a}\")\n",
    "\n",
    "  vector = np.random.rand(a * a)\n",
    "\n",
    "  print(\"List-реализация:\")\n",
    "  %time l1_norm_list(vector)\n",
    "\n",
    "  print(\"NumPy-реализация:\")\n",
    "  %time l1_norm_numpy(vector)\n",
    "\n",
    "  print(\"-\" * 52)"
   ]
  }
 ],
 "metadata": {
  "kernelspec": {
   "display_name": "Python 3",
   "language": "python",
   "name": "python3"
  },
  "language_info": {
   "codemirror_mode": {
    "name": "ipython",
    "version": 3
   },
   "file_extension": ".py",
   "mimetype": "text/x-python",
   "name": "python",
   "nbconvert_exporter": "python",
   "pygments_lexer": "ipython3",
   "version": "3.11.7"
  }
 },
 "nbformat": 4,
 "nbformat_minor": 2
}
