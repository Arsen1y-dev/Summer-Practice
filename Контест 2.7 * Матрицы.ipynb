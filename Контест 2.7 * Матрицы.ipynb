{
 "cells": [
  {
   "cell_type": "markdown",
   "metadata": {},
   "source": [
    "Контест 2.7 * Матрицы"
   ]
  },
  {
   "cell_type": "markdown",
   "metadata": {},
   "source": [
    "Четные и нечетные числа столбца"
   ]
  },
  {
   "cell_type": "code",
   "execution_count": null,
   "metadata": {},
   "outputs": [],
   "source": [
    "import numpy as np\n",
    "\n",
    "with open('input.txt', 'r') as f:\n",
    "    N = int(f.readline().strip())\n",
    "    matrix = []\n",
    "    for _ in range(N):\n",
    "        row = list(map(int, f.readline().strip().split()))\n",
    "        matrix.append(row)\n",
    "\n",
    "matrix = np.array(matrix)\n",
    "\n",
    "even_count = np.sum(matrix % 2 == 0, axis=0)\n",
    "odd_count = np.sum(matrix % 2 != 0, axis=0)\n",
    "\n",
    "with open('output.txt', 'w') as f:\n",
    "    for e, o in zip(even_count, odd_count):\n",
    "        f.write(f\"{e} {o}\\n\")"
   ]
  },
  {
   "cell_type": "markdown",
   "metadata": {},
   "source": [
    "Линии из звездочек"
   ]
  },
  {
   "cell_type": "code",
   "execution_count": null,
   "metadata": {},
   "outputs": [],
   "source": [
    "import numpy as np\n",
    "\n",
    "with open('input.txt', 'r') as f:\n",
    "    n, m = map(int, f.readline().strip().split())\n",
    "    field = np.array([list(f.readline().strip()) for _ in range(n)])\n",
    "\n",
    "# Подсчет количества строк, полностью состоящих из звездочек\n",
    "full_star_rows = np.sum(np.all(field == '*', axis=1))\n",
    "\n",
    "# Подсчет количества столбцов, полностью состоящих из звездочек\n",
    "full_star_columns = np.sum(np.all(field == '*', axis=0))\n",
    "\n",
    "# Общее количество линий из звездочек\n",
    "total_full_star_lines = full_star_rows + full_star_columns\n",
    "\n",
    "with open('output.txt', 'w') as f:\n",
    "    f.write(f\"{total_full_star_lines}\\n\")"
   ]
  },
  {
   "cell_type": "markdown",
   "metadata": {},
   "source": [
    "Вакансии"
   ]
  },
  {
   "cell_type": "code",
   "execution_count": null,
   "metadata": {},
   "outputs": [],
   "source": [
    "import numpy as np\n",
    "\n",
    "with open('input.txt', 'r') as f:\n",
    "    n, m = map(int, f.readline().strip().split())\n",
    "    salaries = np.array([list(map(int, f.readline().strip().split())) for _ in range(n)])\n",
    "\n",
    "# Создание списка всех пар (зарплата, номер вакансии, номер кандидата)\n",
    "pairs = []\n",
    "for i in range(n):\n",
    "    for j in range(m):\n",
    "        pairs.append((salaries[i][j], i, j))\n",
    "\n",
    "pairs.sort()\n",
    "\n",
    "# Массивы для отслеживания занятых вакансий и кандидатов\n",
    "vacancy_taken = np.zeros(n, dtype=bool)\n",
    "candidate_taken = np.zeros(m, dtype=bool)\n",
    "\n",
    "total_salary = 0\n",
    "\n",
    "# Проходим по отсортированным парам и выбираем подходящие\n",
    "for salary, vacancy, candidate in pairs:\n",
    "    if not vacancy_taken[vacancy] and not candidate_taken[candidate]:\n",
    "        total_salary += salary\n",
    "        vacancy_taken[vacancy] = True\n",
    "        candidate_taken[candidate] = True\n",
    "\n",
    "with open('output.txt', 'w') as f:\n",
    "    f.write(f\"{total_salary}\\n\")"
   ]
  },
  {
   "cell_type": "markdown",
   "metadata": {},
   "source": [
    "Фотографии бактерий"
   ]
  },
  {
   "cell_type": "code",
   "execution_count": 5,
   "metadata": {},
   "outputs": [],
   "source": [
    "import numpy as np\n",
    "\n",
    "def get_star_coordinates(matrix):\n",
    "    return np.argwhere(matrix == '*')\n",
    "\n",
    "def normalize_coordinates(coords):\n",
    "    min_coords = coords.min(axis=0)\n",
    "    return coords - min_coords\n",
    "\n",
    "def rotate_coordinates(coords, times=1):\n",
    "    for _ in range(times):\n",
    "        coords = np.column_stack((coords[:, 1], -coords[:, 0]))\n",
    "    return coords\n",
    "\n",
    "def are_same_pattern(coords_a, coords_b):\n",
    "    normalized_a = normalize_coordinates(coords_a)\n",
    "    for i in range(4):\n",
    "        normalized_b = normalize_coordinates(coords_b)\n",
    "        if set(map(tuple, normalized_a)) == set(map(tuple, normalized_b)):\n",
    "            return True\n",
    "        coords_b = rotate_coordinates(coords_b)\n",
    "    return False\n",
    "\n",
    "with open('input.txt', 'r') as file:\n",
    "    data = file.read().split()\n",
    "\n",
    "na, ma = int(data[0]), int(data[1])\n",
    "matrix_a = np.array([list(data[i + 2]) for i in range(na)])\n",
    "\n",
    "nb, mb = int(data[na + 2]), int(data[na + 3])\n",
    "matrix_b = np.array([list(data[i + na + 4]) for i in range(nb)])\n",
    "\n",
    "stars_a = get_star_coordinates(matrix_a)\n",
    "stars_b = get_star_coordinates(matrix_b)\n",
    "\n",
    "if stars_a.size == 0 or stars_b.size == 0:\n",
    "    result = \"YES\" if stars_a.size == stars_b.size else \"NO\"\n",
    "else:\n",
    "    result = \"YES\" if are_same_pattern(stars_a, stars_b) else \"NO\"\n",
    "\n",
    "\n",
    "with open('output.txt', 'w') as file:\n",
    "    file.write(result + '\\n')"
   ]
  }
 ],
 "metadata": {
  "kernelspec": {
   "display_name": "Python 3",
   "language": "python",
   "name": "python3"
  },
  "language_info": {
   "codemirror_mode": {
    "name": "ipython",
    "version": 3
   },
   "file_extension": ".py",
   "mimetype": "text/x-python",
   "name": "python",
   "nbconvert_exporter": "python",
   "pygments_lexer": "ipython3",
   "version": "3.11.7"
  }
 },
 "nbformat": 4,
 "nbformat_minor": 2
}
