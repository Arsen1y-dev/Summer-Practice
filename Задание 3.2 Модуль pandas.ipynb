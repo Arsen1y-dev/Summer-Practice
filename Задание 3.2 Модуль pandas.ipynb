{
 "cells": [
  {
   "cell_type": "markdown",
   "metadata": {},
   "source": [
    "Задание 3.2 Модуль pandas"
   ]
  },
  {
   "cell_type": "markdown",
   "metadata": {},
   "source": [
    "Вам дан фрагмент базы данных, содержащий информацию о продажах туров в различные города России. \n",
    "База данных состоит из трёх таблиц в формате csv с разделителем \"точка с запятой\".\n",
    "\n",
    "Файл travel_agents.csv содержит информацию о туроператорах. \n",
    "Заголовок таблицы имеет следующий вид: ID туроператора;Название;Адрес\n",
    "\n",
    "Файл travels.csv содержит информацию об основных характеристиках каждого тура. \n",
    "Заголовок таблицы имеет следующий вид: ID тура;Город;Продолжительность, дней;Стоимость, на 1 чел\n",
    "\n",
    "Файл sale_of_tour_packages.csv содержит информацию о проданных турах за первый квартал 2022 года. \n",
    "Заголовок таблицы имеет следующий вид: ID операции;Дата;ID тура;ID туроператора;Количество проданных путёвок;"
   ]
  },
  {
   "cell_type": "markdown",
   "metadata": {},
   "source": [
    "На рисунке ниже приведена схема указанной базы данных:\n",
    "\n",
    "![3_2](3_2.png)"
   ]
  },
  {
   "cell_type": "markdown",
   "metadata": {},
   "source": [
    "Пользуясь информацией из приведённой базы данных выполните следующие задания:\n",
    "\n",
    "Вариант 28.\n",
    "\n",
    "Найти название и адрес самого популярного туроператора (продавшего максимальное количество путёвок).\n",
    "Построить круговую диаграмму, отображающую общую стоимость путёвок и стоимость путёвок по каждому городу, которые были проданы туроператором \"Мечта\".\n",
    "Построить гистограмму, показывающую градацию туров по длительности путешествия."
   ]
  },
  {
   "cell_type": "code",
   "execution_count": 1,
   "metadata": {},
   "outputs": [
    {
     "ename": "ModuleNotFoundError",
     "evalue": "No module named 'matplotlib'",
     "output_type": "error",
     "traceback": [
      "\u001b[0;31m---------------------------------------------------------------------------\u001b[0m",
      "\u001b[0;31mModuleNotFoundError\u001b[0m                       Traceback (most recent call last)",
      "Cell \u001b[0;32mIn[1], line 2\u001b[0m\n\u001b[1;32m      1\u001b[0m \u001b[38;5;28;01mimport\u001b[39;00m \u001b[38;5;21;01mpandas\u001b[39;00m \u001b[38;5;28;01mas\u001b[39;00m \u001b[38;5;21;01mpd\u001b[39;00m\n\u001b[0;32m----> 2\u001b[0m \u001b[38;5;28;01mimport\u001b[39;00m \u001b[38;5;21;01mmatplotlib\u001b[39;00m\u001b[38;5;21;01m.\u001b[39;00m\u001b[38;5;21;01mpyplot\u001b[39;00m \u001b[38;5;28;01mas\u001b[39;00m \u001b[38;5;21;01mplt\u001b[39;00m\n",
      "\u001b[0;31mModuleNotFoundError\u001b[0m: No module named 'matplotlib'"
     ]
    }
   ],
   "source": [
    "import pandas as pd\n",
    "import matplotlib.pyplot as plt"
   ]
  },
  {
   "cell_type": "code",
   "execution_count": null,
   "metadata": {},
   "outputs": [],
   "source": []
  }
 ],
 "metadata": {
  "kernelspec": {
   "display_name": "Python 3",
   "language": "python",
   "name": "python3"
  },
  "language_info": {
   "codemirror_mode": {
    "name": "ipython",
    "version": 3
   },
   "file_extension": ".py",
   "mimetype": "text/x-python",
   "name": "python",
   "nbconvert_exporter": "python",
   "pygments_lexer": "ipython3",
   "version": "3.11.7"
  }
 },
 "nbformat": 4,
 "nbformat_minor": 2
}
