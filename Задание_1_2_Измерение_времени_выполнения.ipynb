{
  "nbformat": 4,
  "nbformat_minor": 0,
  "metadata": {
    "colab": {
      "provenance": [],
      "authorship_tag": "ABX9TyMdz9JO8Ssmt7JKQuNWWPHJ",
      "include_colab_link": true
    },
    "kernelspec": {
      "name": "python3",
      "display_name": "Python 3"
    },
    "language_info": {
      "name": "python"
    }
  },
  "cells": [
    {
      "cell_type": "markdown",
      "metadata": {
        "id": "view-in-github",
        "colab_type": "text"
      },
      "source": [
        "<a href=\"https://colab.research.google.com/github/Arsen1y-dev/Summer-Practice/blob/main/%D0%97%D0%B0%D0%B4%D0%B0%D0%BD%D0%B8%D0%B5_1_2_%D0%98%D0%B7%D0%BC%D0%B5%D1%80%D0%B5%D0%BD%D0%B8%D0%B5_%D0%B2%D1%80%D0%B5%D0%BC%D0%B5%D0%BD%D0%B8_%D0%B2%D1%8B%D0%BF%D0%BE%D0%BB%D0%BD%D0%B5%D0%BD%D0%B8%D1%8F.ipynb\" target=\"_parent\"><img src=\"https://colab.research.google.com/assets/colab-badge.svg\" alt=\"Open In Colab\"/></a>"
      ]
    },
    {
      "cell_type": "markdown",
      "source": [
        "#Задание 1.2 Измерение времени выполнения"
      ],
      "metadata": {
        "id": "U87MnCZ4MR2U"
      }
    },
    {
      "cell_type": "markdown",
      "source": [
        "1. Сравните время выполнения алгоритмов на различных размерах входных данных:\n",
        "\n",
        "проверка на простоту перебором до N, N // 2 и до корня,\n",
        "поиск элемента в списке и во множестве,\n",
        "ответ на запросы о количестве вхождений элементов в список или букв в строку с помощью вызова метода count и с использованием Counter'а,\n",
        "квадратичная сортировка, быстрая сортировка, встроенная сортировка на числах,\n",
        "квадратичная сортировка, быстрая сортировка, встроенная сортировка на строках,\n",
        "квадратичная сортировка, быстрая сортировка, встроенная сортировка на \"пользователях\", для которых сгенерированы id, логины и пароли,\n",
        "квадратичная сортировка, быстрая сортировка, встроенная сортировка на \"вакансиях\".\n",
        "2. Проверьте экспериментально, подходит ли коллекция list как основа для абстрактных структур данных стек и очередь. Для этого определите характер зависимости времени выполнения операций (добавления и извлечения элементов) от размера коллекции. Сравните с использованием коллекции deque."
      ],
      "metadata": {
        "id": "a-VKXK0QMi6K"
      }
    },
    {
      "cell_type": "markdown",
      "source": [
        "https://docs.python.org/3/tutorial/datastructures.html#using-lists-as-stacks\n",
        "\n",
        "https://docs.python.org/3/tutorial/datastructures.html#using-lists-as-queues"
      ],
      "metadata": {
        "id": "bQEYi4fVMuAM"
      }
    },
    {
      "cell_type": "markdown",
      "source": [
        "##1. Проверка на простоту"
      ],
      "metadata": {
        "id": "jq4BYRpS4QfK"
      }
    },
    {
      "cell_type": "code",
      "source": [
        "import math\n",
        "\n",
        "def is_prime_basic(n):\n",
        "    if n <= 1:\n",
        "        return False\n",
        "    for i in range(2, n):\n",
        "        if n % i == 0:\n",
        "            return False\n",
        "    return True\n",
        "\n",
        "def is_prime_half(n):\n",
        "    if n <= 1:\n",
        "        return False\n",
        "    for i in range(2, n // 2 + 1):\n",
        "        if n % i == 0:\n",
        "            return False\n",
        "    return True\n",
        "\n",
        "def is_prime_sqrt(n):\n",
        "    if n <= 1:\n",
        "        return False\n",
        "    for i in range(2, int(math.sqrt(n)) + 1):\n",
        "        if n % i == 0:\n",
        "            return False\n",
        "    return True\n",
        "\n",
        "n_values = [10**2, 10**4-1, 2**50-1]\n",
        "\n",
        "for n in n_values:\n",
        "    print(f\"Тестирование для = {n}\")\n",
        "\n",
        "    %time\n",
        "    [is_prime_basic(i) for i in range(n)]\n",
        "\n",
        "    %time\n",
        "    [is_prime_half(i) for i in range(n)]\n",
        "\n",
        "    %time\n",
        "    [is_prime_sqrt(i) for i in range(n)]"
      ],
      "metadata": {
        "id": "7-ufBSe-Moij"
      },
      "execution_count": null,
      "outputs": []
    },
    {
      "cell_type": "markdown",
      "source": [
        "##2. Поиск элемента в списке и во множестве\n"
      ],
      "metadata": {
        "id": "of8vqsub4VPT"
      }
    },
    {
      "cell_type": "code",
      "source": [
        "import random\n",
        "\n",
        "elements = [random.randint(1, 10**6) for _ in range(10**6)]\n",
        "element_to_find = random.choice(elements)\n",
        "\n",
        "%time\n",
        "element_to_find in elements\n",
        "\n",
        "elements_set = set(elements)\n",
        "\n",
        "%time\n",
        "element_to_find in elements_set"
      ],
      "metadata": {
        "colab": {
          "base_uri": "https://localhost:8080/"
        },
        "id": "GBq8psuy4VlI",
        "outputId": "2a4946ac-97df-4770-8b4b-019b0ad5a6d3"
      },
      "execution_count": 4,
      "outputs": [
        {
          "output_type": "stream",
          "name": "stdout",
          "text": [
            "CPU times: user 2 µs, sys: 0 ns, total: 2 µs\n",
            "Wall time: 5.96 µs\n",
            "CPU times: user 3 µs, sys: 1 µs, total: 4 µs\n",
            "Wall time: 5.96 µs\n"
          ]
        },
        {
          "output_type": "execute_result",
          "data": {
            "text/plain": [
              "True"
            ]
          },
          "metadata": {},
          "execution_count": 4
        }
      ]
    },
    {
      "cell_type": "markdown",
      "source": [
        "##3. Количество вхождений с помощью count и Counter"
      ],
      "metadata": {
        "id": "z2ksdDqi4gwX"
      }
    },
    {
      "cell_type": "code",
      "source": [
        "from collections import Counter\n",
        "\n",
        "elements = [random.randint(1, 10**3) for _ in range(10**6)]\n",
        "\n",
        "%time\n",
        "elements.count(500)\n",
        "\n",
        "counter = Counter(elements)\n",
        "\n",
        "%time\n",
        "counter[500]"
      ],
      "metadata": {
        "colab": {
          "base_uri": "https://localhost:8080/"
        },
        "id": "Xmgq9kWe4iPN",
        "outputId": "d751cfd5-d29a-403d-88b5-6834eb04feb3"
      },
      "execution_count": 12,
      "outputs": [
        {
          "output_type": "stream",
          "name": "stdout",
          "text": [
            "CPU times: user 3 µs, sys: 0 ns, total: 3 µs\n",
            "Wall time: 5.72 µs\n",
            "CPU times: user 3 µs, sys: 0 ns, total: 3 µs\n",
            "Wall time: 5.48 µs\n"
          ]
        },
        {
          "output_type": "execute_result",
          "data": {
            "text/plain": [
              "1046"
            ]
          },
          "metadata": {},
          "execution_count": 12
        }
      ]
    },
    {
      "cell_type": "markdown",
      "source": [
        "##4. Квадратичная сортировка, быстрая сортировка, встроенная сортировка на числах"
      ],
      "metadata": {
        "id": "5l1MEbLF5CJr"
      }
    },
    {
      "cell_type": "code",
      "source": [
        "elements = [random.randint(1, 10**6) for _ in range(10**5)]\n",
        "\n",
        "%time\n",
        "sorted(elements)\n",
        "\n",
        "%time\n",
        "sorted(elements, key=lambda x: x)\n",
        "\n",
        "# Квадратичная сортировка (например, пузырьковая сортировка)\n",
        "def bubble_sort(arr):\n",
        "    n = len(arr)\n",
        "    for i in range(n):\n",
        "        for j in range(0, n-i-1):\n",
        "            if arr[j] > arr[j+1]:\n",
        "                arr[j], arr[j+1] = arr[j+1], arr[j]\n",
        "\n",
        "elements_copy = elements.copy()\n",
        "\n",
        "%time\n",
        "bubble_sort(elements_copy)"
      ],
      "metadata": {
        "colab": {
          "base_uri": "https://localhost:8080/"
        },
        "id": "u4Sev8oQ5Og4",
        "outputId": "8d470113-5280-41d3-8376-ccd4a21f008b"
      },
      "execution_count": null,
      "outputs": [
        {
          "metadata": {
            "tags": null
          },
          "name": "stdout",
          "output_type": "stream",
          "text": [
            "CPU times: user 3 µs, sys: 0 ns, total: 3 µs\n",
            "Wall time: 5.96 µs\n",
            "CPU times: user 2 µs, sys: 0 ns, total: 2 µs\n",
            "Wall time: 5.48 µs\n",
            "CPU times: user 2 µs, sys: 0 ns, total: 2 µs\n",
            "Wall time: 5.01 µs\n"
          ]
        }
      ]
    },
    {
      "cell_type": "markdown",
      "source": [
        "##5. Квадратичная сортировка, быстрая сортировка, встроенная сортировка на строках"
      ],
      "metadata": {
        "id": "wliJrDof5ceF"
      }
    },
    {
      "cell_type": "code",
      "source": [
        "elements = [''.join(random.choices('abcdefghijklmnopqrstuvwxyz', k=10)) for _ in range(10**5)]\n",
        "\n",
        "%time\n",
        "sorted(elements)\n",
        "\n",
        "%time\n",
        "sorted(elements, key=lambda x: x)\n",
        "\n",
        "# Квадратичная сортировка (пузырьковая сортировка)\n",
        "elements_copy = elements.copy()\n",
        "\n",
        "%time\n",
        "bubble_sort(elements_copy)"
      ],
      "metadata": {
        "id": "EpIs_ldt5jBJ"
      },
      "execution_count": null,
      "outputs": []
    },
    {
      "cell_type": "markdown",
      "source": [
        "##6. Сортировка “пользователей”"
      ],
      "metadata": {
        "id": "vYFplzWV5k6J"
      }
    },
    {
      "cell_type": "code",
      "source": [
        "class User:\n",
        "    def __init__(self, user_id, login, password):\n",
        "        self.user_id = user_id\n",
        "        self.login = login\n",
        "        self.password = password\n",
        "\n",
        "users = [User(random.randint(1, 10**6), ''.join(random.choices('abcdefghijklmnopqrstuvwxyz', k=10)), ''.join(random.choices('abcdefghijklmnopqrstuvwxyz0123456789', k=10))) for _ in range(10**4)]\n",
        "\n",
        "%time\n",
        "sorted(users, key=lambda x: x.user_id)\n",
        "\n",
        "%time\n",
        "sorted(users, key=lambda x: x.login)\n",
        "\n",
        "%time\n",
        "sorted(users, key=lambda x: x.password)"
      ],
      "metadata": {
        "id": "2eQDBf9u5pX_"
      },
      "execution_count": null,
      "outputs": []
    },
    {
      "cell_type": "markdown",
      "source": [
        "7. Сортировка “вакансий”"
      ],
      "metadata": {
        "id": "aAV6ZvnL5qv6"
      }
    },
    {
      "cell_type": "code",
      "source": [
        "class Job:\n",
        "    def __init__(self, job_id, title, description):\n",
        "        self.job_id = job_id\n",
        "        self.title = title\n",
        "        self.description = description\n",
        "\n",
        "jobs = [Job(random.randint(1, 10**6), ''.join(random.choices('abcdefghijklmnopqrstuvwxyz', k=10)), ''.join(random.choices('abcdefghijklmnopqrstuvwxyz0123456789', k=100))) for _ in range(10**4)]\n",
        "\n",
        "%time\n",
        "sorted(jobs, key=lambda x: x.job_id)\n",
        "\n",
        "%time\n",
        "sorted(jobs, key=lambda x: x.title)\n",
        "\n",
        "%time\n",
        "sorted(jobs, key=lambda x: x.description)"
      ],
      "metadata": {
        "id": "nhIOpWvN5sn6"
      },
      "execution_count": null,
      "outputs": []
    },
    {
      "cell_type": "markdown",
      "source": [
        "8. Использование коллекции list и deque для стеков и очередей"
      ],
      "metadata": {
        "id": "atAQjTCY5yJY"
      }
    },
    {
      "cell_type": "code",
      "source": [
        "from collections import deque\n",
        "\n",
        "# Операции со стеком на основе списка\n",
        "stack = []\n",
        "n_operations = 10**6\n",
        "\n",
        "%time\n",
        "for i in range(n_operations):\n",
        "    stack.append(i)\n",
        "for i in range(n_operations):\n",
        "    stack.pop()\n",
        "\n",
        "# Операции с очередью на основе списка\n",
        "queue = []\n",
        "\n",
        "%time\n",
        "for i in range(n_operations):\n",
        "    queue.append(i)\n",
        "for i in range(n_operations):\n",
        "    queue.pop(0)\n",
        "\n",
        "# Операции со стеком на основе deque\n",
        "stack_deque = deque()\n",
        "\n",
        "%time\n",
        "for i in range(n_operations):\n",
        "    stack_deque.append(i)\n",
        "for i in range(n_operations):\n",
        "    stack_deque.pop()\n",
        "\n",
        "# Операции с очередью на основе deque\n",
        "queue_deque = deque()\n",
        "\n",
        "%time\n",
        "for i in range(n_operations):\n",
        "    queue_deque.append(i)\n",
        "for i in range(n_operations):\n",
        "    queue_deque.popleft()"
      ],
      "metadata": {
        "id": "bFMTR9Xm5zW1"
      },
      "execution_count": null,
      "outputs": []
    }
  ]
}