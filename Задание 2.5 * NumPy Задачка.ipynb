{
 "cells": [
  {
   "cell_type": "markdown",
   "metadata": {},
   "source": [
    "Задание 2.5 * NumPy Задачка"
   ]
  },
  {
   "cell_type": "markdown",
   "metadata": {},
   "source": [
    "В первом туре Открытой олимпиады школьников \"Информационные технологии\" для 11 класса в 2017 году была такая задачка. Давайте решим ее с помощью NumPy.\n",
    "\n",
    "Двумерные символьные массивы строятся по следующему алгоритму:\n",
    "\n",
    "Берется копия массива, полученного на предыдущем шаге (исходный массив для первой итерации), строится её зеркальное отражение относительно правой границы и присоединяется справа. Получается новый массив с таким же количеством строк и с вдвое большим количеством столбцов.\n",
    "Берется копия массива, полученного на предыдущем шаге, строится её зеркальное отражение относительно верхней границы и присоединяется сверху. Получается новый массив с таким же количеством столбцов и с вдвое большим количеством строк.\n",
    "Если получился массив размером 𝑁×𝑁, то алгоритм завершается, в противном случае переход на шаг 1.\n",
    "\n",
    "Пусть был взят исходный массив, размером 3 на 3 элемента:\n",
    "\n",
    "[𝐴,𝐵,𝐶\n",
    "\n",
    "𝐵,𝐶,𝐴\n",
    "\n",
    "𝐶,𝐴,𝐵]\n",
    "\n",
    "и принято 𝑁=192.\n",
    "\n",
    "В построенном в результате выполнения алгоритма массиве 𝑅, размером 192×192 элемента определите  значения элемента  с индексами [𝑥,𝑦]."
   ]
  },
  {
   "cell_type": "code",
   "execution_count": 1,
   "metadata": {},
   "outputs": [],
   "source": [
    "import numpy as np"
   ]
  },
  {
   "cell_type": "code",
   "execution_count": 3,
   "metadata": {},
   "outputs": [
    {
     "name": "stdout",
     "output_type": "stream",
     "text": [
      "Значение элемента с индексами [1, 1] в массиве R: C\n"
     ]
    }
   ],
   "source": [
    "initial_array = np.array([['A', 'B', 'C'],\n",
    "                         ['B', 'C', 'A'],\n",
    "                         ['C', 'A', 'B']])\n",
    "\n",
    "N = 192\n",
    "\n",
    "\n",
    "def reflect_right(array):\n",
    "  return np.concatenate((array, np.fliplr(array)), axis=1)\n",
    "\n",
    "\n",
    "def reflect_top(array):\n",
    "  return np.concatenate((array, np.flipud(array)), axis=0)\n",
    "\n",
    "\n",
    "current_array = initial_array\n",
    "while current_array.shape[0] < N or current_array.shape[1] < N:\n",
    "  current_array = reflect_right(current_array)\n",
    "  current_array = reflect_top(current_array)\n",
    "\n",
    "x = 1\n",
    "y = 1\n",
    "\n",
    "element_value = current_array[x, y]\n",
    "\n",
    "print(f\"Значение элемента с индексами [{x}, {y}] в массиве R: {element_value}\")"
   ]
  }
 ],
 "metadata": {
  "kernelspec": {
   "display_name": "Python 3",
   "language": "python",
   "name": "python3"
  },
  "language_info": {
   "codemirror_mode": {
    "name": "ipython",
    "version": 3
   },
   "file_extension": ".py",
   "mimetype": "text/x-python",
   "name": "python",
   "nbconvert_exporter": "python",
   "pygments_lexer": "ipython3",
   "version": "3.12.4"
  }
 },
 "nbformat": 4,
 "nbformat_minor": 2
}
