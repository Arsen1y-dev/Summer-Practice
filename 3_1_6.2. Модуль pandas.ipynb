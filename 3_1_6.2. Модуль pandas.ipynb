{
 "cells": [
  {
   "cell_type": "markdown",
   "metadata": {},
   "source": [
    "6.2. Модуль pandas"
   ]
  },
  {
   "cell_type": "markdown",
   "metadata": {},
   "source": [
    "Длины всех слов - 2"
   ]
  },
  {
   "cell_type": "code",
   "execution_count": 30,
   "metadata": {},
   "outputs": [],
   "source": [
    "import pandas as pd\n",
    "import string\n",
    "\n",
    "\n",
    "def length_stats(text):\n",
    "    text = text.lower()\n",
    "    text = text.translate(str.maketrans('', '', string.punctuation))\n",
    "    words = text.split()\n",
    "    words = set([word for word in words if not any(char.isdigit() for char in word)])\n",
    "    words = sorted(words)\n",
    "    lengths = pd.Series([len(word) for word in words], index=words)\n",
    "    \n",
    "    return lengths"
   ]
  },
  {
   "cell_type": "code",
   "execution_count": 31,
   "metadata": {},
   "outputs": [
    {
     "name": "stdout",
     "output_type": "stream",
     "text": [
      "мама    4\n",
      "мыла    4\n",
      "раму    4\n",
      "dtype: int64\n"
     ]
    }
   ],
   "source": [
    "print(length_stats('Мама мыла раму'))"
   ]
  },
  {
   "cell_type": "code",
   "execution_count": 33,
   "metadata": {},
   "outputs": [
    {
     "name": "stdout",
     "output_type": "stream",
     "text": [
      "домик       5\n",
      "зверушка    8\n",
      "и           1\n",
      "лес         3\n",
      "опушка      6\n",
      "странный    8\n",
      "dtype: int64\n"
     ]
    }
   ],
   "source": [
    "print(length_stats('Лес, опушка, странный домик. Лес, опушка и зверушка.'))"
   ]
  },
  {
   "cell_type": "markdown",
   "metadata": {},
   "source": [
    "Длины всех слов по чётности"
   ]
  },
  {
   "cell_type": "code",
   "execution_count": 57,
   "metadata": {},
   "outputs": [],
   "source": [
    "import pandas as pd\n",
    "import re\n",
    "\n",
    "\n",
    "def length_stats(text):\n",
    "    text = text.lower()\n",
    "    text = re.sub(r'[^\\w\\s]', '', text)\n",
    "    text = re.sub(r'\\d+', '', text) \n",
    "    \n",
    "    words = sorted(text.split())\n",
    "                   \n",
    "    odd_words = {word: len(word) for word in words if len(word) % 2 != 0}\n",
    "    even_words = {word: len(word) for word in words if len(word) % 2 == 0}\n",
    "    \n",
    "    odd = pd.Series(odd_words, dtype='int64')\n",
    "    even = pd.Series(even_words, dtype='int64')\n",
    "    \n",
    "    return odd, even"
   ]
  },
  {
   "cell_type": "code",
   "execution_count": 58,
   "metadata": {},
   "outputs": [
    {
     "name": "stdout",
     "output_type": "stream",
     "text": [
      "Series([], dtype: int64)\n",
      "мама    4\n",
      "мыла    4\n",
      "раму    4\n",
      "dtype: int64\n"
     ]
    }
   ],
   "source": [
    "odd, even = length_stats('Мама мыла раму')\n",
    "print(odd)\n",
    "print(even)"
   ]
  },
  {
   "cell_type": "code",
   "execution_count": 59,
   "metadata": {},
   "outputs": [
    {
     "name": "stdout",
     "output_type": "stream",
     "text": [
      "домик    5\n",
      "и        1\n",
      "лес      3\n",
      "dtype: int64\n",
      "зверушка    8\n",
      "опушка      6\n",
      "странный    8\n",
      "dtype: int64\n"
     ]
    }
   ],
   "source": [
    "odd, even = length_stats('Лес, опушка, странный домик. Лес, опушка и зверушка.')\n",
    "print(odd)\n",
    "print(even)"
   ]
  },
  {
   "cell_type": "markdown",
   "metadata": {},
   "source": [
    "Чек - 2"
   ]
  },
  {
   "cell_type": "code",
   "execution_count": 60,
   "metadata": {},
   "outputs": [],
   "source": [
    "import pandas as pd\n",
    "\n",
    "\n",
    "def cheque(price_list, **purchases):\n",
    "    data = []\n",
    "    \n",
    "    for product, number in purchases.items():\n",
    "        price = price_list[product]\n",
    "        cost = price * number\n",
    "        data.append((product, price, number, cost))\n",
    "    \n",
    "    df = pd.DataFrame(data, columns=['product', 'price', 'number', 'cost'])\n",
    "    \n",
    "    df = df.sort_values(by='product').reset_index(drop=True)\n",
    "    \n",
    "    return df"
   ]
  },
  {
   "cell_type": "code",
   "execution_count": 61,
   "metadata": {},
   "outputs": [
    {
     "name": "stdout",
     "output_type": "stream",
     "text": [
      "  product  price  number  cost\n",
      "0   cream     72       1    72\n",
      "1    milk     58       2   116\n",
      "2    soda     99       3   297\n"
     ]
    }
   ],
   "source": [
    "products = ['bread', 'milk', 'soda', 'cream']\n",
    "prices = [37, 58, 99, 72]\n",
    "price_list = pd.Series(prices, index=products)\n",
    "result = cheque(price_list, soda=3, milk=2, cream=1)\n",
    "print(result)"
   ]
  },
  {
   "cell_type": "markdown",
   "metadata": {},
   "source": [
    "Акция"
   ]
  },
  {
   "cell_type": "code",
   "execution_count": 73,
   "metadata": {},
   "outputs": [],
   "source": [
    "import pandas as pd\n",
    "\n",
    "\n",
    "def cheque(price_list, **kwargs):\n",
    "    my_products = sorted(kwargs)\n",
    "    product_dict = {\n",
    "        'product': my_products,\n",
    "        'price': [price_list[i] for i in my_products],\n",
    "        'number': [kwargs[i] for i in my_products]\n",
    "    }\n",
    "    product_dict = pd.DataFrame(product_dict)\n",
    "    product_dict['cost'] = product_dict['price'] * product_dict['number']\n",
    "    \n",
    "    return product_dict\n",
    "\n",
    "\n",
    "def discount(s):\n",
    "    new_s = s.copy()\n",
    "    for i in range(len(new_s.loc[:, 'cost'])):\n",
    "        new_s.loc[i, 'cost'] /= 1 + (s.loc[:, 'number'][i] > 2)\n",
    "    return new_s"
   ]
  },
  {
   "cell_type": "code",
   "execution_count": 74,
   "metadata": {},
   "outputs": [
    {
     "name": "stdout",
     "output_type": "stream",
     "text": [
      "  product  price  number  cost\n",
      "0   cream     72       1    72\n",
      "1    milk     58       2   116\n",
      "2    soda     99       3   297\n",
      "  product  price  number   cost\n",
      "0   cream     72       1   72.0\n",
      "1    milk     58       2  116.0\n",
      "2    soda     99       3  148.5\n"
     ]
    },
    {
     "name": "stderr",
     "output_type": "stream",
     "text": [
      "/var/folders/br/nqfq1jl17g16l72vq9q9p0_00000gn/T/ipykernel_6764/3719382552.py:20: FutureWarning: Setting an item of incompatible dtype is deprecated and will raise an error in a future version of pandas. Value '148.5' has dtype incompatible with int64, please explicitly cast to a compatible dtype first.\n",
      "  new_s.loc[i, 'cost'] /= 1 + (s.loc[:, 'number'][i] > 2)\n"
     ]
    }
   ],
   "source": [
    "products = ['bread', 'milk', 'soda', 'cream']\n",
    "prices = [37, 58, 99, 72]\n",
    "price_list = pd.Series(prices, index=products)\n",
    "result = cheque(price_list, soda=3, milk=2, cream=1)\n",
    "with_discount = discount(result)\n",
    "print(result)\n",
    "print(with_discount)"
   ]
  },
  {
   "cell_type": "markdown",
   "metadata": {},
   "source": [
    "Длинные слова"
   ]
  },
  {
   "cell_type": "code",
   "execution_count": 66,
   "metadata": {},
   "outputs": [],
   "source": [
    "def get_long(data, min_length=5):\n",
    "    return data[data >= min_length]"
   ]
  },
  {
   "cell_type": "code",
   "execution_count": 67,
   "metadata": {},
   "outputs": [
    {
     "name": "stdout",
     "output_type": "stream",
     "text": [
      "мир       3\n",
      "питон     5\n",
      "привет    6\n",
      "яндекс    6\n",
      "dtype: int64\n",
      "питон     5\n",
      "привет    6\n",
      "яндекс    6\n",
      "dtype: int64\n"
     ]
    }
   ],
   "source": [
    "data = pd.Series([3, 5, 6, 6], ['мир', 'питон', 'привет', 'яндекс'])\n",
    "filtered = get_long(data)\n",
    "print(data)\n",
    "print(filtered)"
   ]
  },
  {
   "cell_type": "code",
   "execution_count": 68,
   "metadata": {},
   "outputs": [
    {
     "name": "stdout",
     "output_type": "stream",
     "text": [
      "мир       3\n",
      "питон     5\n",
      "привет    6\n",
      "яндекс    6\n",
      "dtype: int64\n",
      "привет    6\n",
      "яндекс    6\n",
      "dtype: int64\n"
     ]
    }
   ],
   "source": [
    "data = pd.Series([3, 5, 6, 6], ['мир', 'питон', 'привет', 'яндекс'])\n",
    "filtered = get_long(data, min_length=6)\n",
    "print(data)\n",
    "print(filtered)"
   ]
  },
  {
   "cell_type": "markdown",
   "metadata": {},
   "source": [
    "Отчёт успеваемости"
   ]
  },
  {
   "cell_type": "code",
   "execution_count": 35,
   "metadata": {},
   "outputs": [],
   "source": [
    "import pandas as pd\n",
    "\n",
    "def best(journal):\n",
    "    return journal[(journal['maths'] > 3) & (journal['physics'] > 3) & (journal['computer science'] > 3)]"
   ]
  },
  {
   "cell_type": "code",
   "execution_count": 36,
   "metadata": {},
   "outputs": [
    {
     "name": "stdout",
     "output_type": "stream",
     "text": [
      "       name  maths  physics  computer science\n",
      "0    Иванов      5        4                 5\n",
      "1    Петров      4        4                 2\n",
      "2   Сидоров      5        4                 5\n",
      "3  Васечкин      2        5                 4\n",
      "4  Николаев      4        5                 3\n",
      "      name  maths  physics  computer science\n",
      "0   Иванов      5        4                 5\n",
      "2  Сидоров      5        4                 5\n"
     ]
    }
   ],
   "source": [
    "columns = ['name', 'maths', 'physics', 'computer science']\n",
    "data = {\n",
    "    'name': ['Иванов', 'Петров', 'Сидоров', 'Васечкин', 'Николаев'],\n",
    "    'maths': [5, 4, 5, 2, 4],\n",
    "    'physics': [4, 4, 4, 5, 5],\n",
    "    'computer science': [5, 2, 5, 4, 3]\n",
    "}\n",
    "journal = pd.DataFrame(data, columns=columns)\n",
    "filtered = best(journal)\n",
    "print(journal)\n",
    "print(filtered)"
   ]
  },
  {
   "cell_type": "markdown",
   "metadata": {},
   "source": [
    "Отчёт неуспеваемости"
   ]
  },
  {
   "cell_type": "code",
   "execution_count": 37,
   "metadata": {},
   "outputs": [],
   "source": [
    "import pandas as pd\n",
    "\n",
    "\n",
    "def need_to_work_better(j):\n",
    "    new_j = j.copy()\n",
    "    return new_j[(new_j['maths'] < 3) | (new_j['physics'] < 3) | (new_j['computer science'] < 3)]"
   ]
  },
  {
   "cell_type": "code",
   "execution_count": 38,
   "metadata": {},
   "outputs": [
    {
     "name": "stdout",
     "output_type": "stream",
     "text": [
      "       name  maths  physics  computer science\n",
      "0    Иванов      5        4                 5\n",
      "1    Петров      4        4                 2\n",
      "2   Сидоров      5        4                 5\n",
      "3  Васечкин      2        5                 4\n",
      "4  Николаев      4        5                 3\n",
      "       name  maths  physics  computer science\n",
      "1    Петров      4        4                 2\n",
      "3  Васечкин      2        5                 4\n"
     ]
    }
   ],
   "source": [
    "columns = ['name', 'maths', 'physics', 'computer science']\n",
    "data = {\n",
    "    'name': ['Иванов', 'Петров', 'Сидоров', 'Васечкин', 'Николаев'],\n",
    "    'maths': [5, 4, 5, 2, 4],\n",
    "    'physics': [4, 4, 4, 5, 5],\n",
    "    'computer science': [5, 2, 5, 4, 3]\n",
    "}\n",
    "journal = pd.DataFrame(data, columns=columns)\n",
    "filtered = need_to_work_better(journal)\n",
    "print(journal)\n",
    "print(filtered)"
   ]
  },
  {
   "cell_type": "markdown",
   "metadata": {},
   "source": [
    "Обновление журнала"
   ]
  },
  {
   "cell_type": "code",
   "execution_count": 39,
   "metadata": {},
   "outputs": [],
   "source": [
    "import pandas as pd\n",
    "\n",
    "\n",
    "def update(journal):\n",
    "   \n",
    "    journal_copy = journal.copy()\n",
    "   \n",
    "    journal_copy['average'] = journal_copy[['maths', 'physics', 'computer science']].mean(axis=1) # Добавляем столбец average с средним значением оценок\n",
    "    \n",
    "    journal_copy = journal_copy.sort_values(by=['average', 'name'], ascending=[False, True]) # Сортируем данные по убыванию average, а при равенстве средних — по имени лексикографически\n",
    "    \n",
    "    return journal_copy"
   ]
  },
  {
   "cell_type": "code",
   "execution_count": 41,
   "metadata": {},
   "outputs": [
    {
     "name": "stdout",
     "output_type": "stream",
     "text": [
      "       name  maths  physics  computer science\n",
      "0    Иванов      5        4                 5\n",
      "1    Петров      4        4                 2\n",
      "2   Сидоров      5        4                 5\n",
      "3  Васечкин      2        5                 4\n",
      "4  Николаев      4        5                 3\n",
      "       name  maths  physics  computer science   average\n",
      "0    Иванов      5        4                 5  4.666667\n",
      "2   Сидоров      5        4                 5  4.666667\n",
      "4  Николаев      4        5                 3  4.000000\n",
      "3  Васечкин      2        5                 4  3.666667\n",
      "1    Петров      4        4                 2  3.333333\n"
     ]
    }
   ],
   "source": [
    "columns = ['name', 'maths', 'physics', 'computer science']\n",
    "data = {\n",
    "    'name': ['Иванов', 'Петров', 'Сидоров', 'Васечкин', 'Николаев'],\n",
    "    'maths': [5, 4, 5, 2, 4],\n",
    "    'physics': [4, 4, 4, 5, 5],\n",
    "    'computer science': [5, 2, 5, 4, 3]\n",
    "}\n",
    "journal = pd.DataFrame(data, columns=columns)\n",
    "filtered = update(journal)\n",
    "print(journal)\n",
    "print(filtered)"
   ]
  },
  {
   "cell_type": "markdown",
   "metadata": {},
   "source": [
    "Бесконечный морской бой"
   ]
  },
  {
   "cell_type": "code",
   "execution_count": 25,
   "metadata": {},
   "outputs": [
    {
     "name": "stdout",
     "output_type": "stream",
     "text": [
      "         x   y\n",
      "6262     9   0\n",
      "59060   10   4\n",
      "69882   10   5\n",
      "72739    0   0\n",
      "120951   3   1\n",
      "137931   9  10\n",
      "183595   7   0\n",
      "194157   0   9\n",
      "219910   0   3\n",
      "220920  10   0\n",
      "242318   8   4\n",
      "283651   1   8\n",
      "292990   4   3\n",
      "294474   6   3\n",
      "352959  10  10\n",
      "393223   3   5\n",
      "423449   1   2\n"
     ]
    }
   ],
   "source": [
    "import pandas as pd\n",
    "\n",
    "a, b = map(int, input().split())\n",
    "c, d = map(int, input().split())\n",
    "data = pd.read_csv('data.csv')\n",
    "print(data[(a <= data['x']) & (data['x'] <= c) & (d <= data['y']) & (data['y'] <= b)])"
   ]
  },
  {
   "cell_type": "markdown",
   "metadata": {},
   "source": [
    "Экстремум функции"
   ]
  },
  {
   "cell_type": "code",
   "execution_count": 42,
   "metadata": {},
   "outputs": [],
   "source": [
    "import numpy as np\n",
    "import pandas as pd\n",
    "\n",
    "\n",
    "def values(func, start, end, step):\n",
    "    index = np.arange(start, end + step, step)\n",
    "    return pd.Series(map(func, index), index=index, dtype='float64')\n",
    "\n",
    "\n",
    "def min_extremum(data):\n",
    "    return min(data[data == min(data)].index)\n",
    "    \n",
    "    \n",
    "def max_extremum(data):\n",
    "    return max(data[data == max(data)].index)"
   ]
  },
  {
   "cell_type": "code",
   "execution_count": 44,
   "metadata": {},
   "outputs": [
    {
     "name": "stdout",
     "output_type": "stream",
     "text": [
      "-1.500000e+00    0.25\n",
      "-1.400000e+00    0.16\n",
      "-1.300000e+00    0.09\n",
      "-1.200000e+00    0.04\n",
      "-1.100000e+00    0.01\n",
      "-1.000000e+00    0.00\n",
      "-9.000000e-01    0.01\n",
      "-8.000000e-01    0.04\n",
      "-7.000000e-01    0.09\n",
      "-6.000000e-01    0.16\n",
      "-5.000000e-01    0.25\n",
      "-4.000000e-01    0.36\n",
      "-3.000000e-01    0.49\n",
      "-2.000000e-01    0.64\n",
      "-1.000000e-01    0.81\n",
      " 1.332268e-15    1.00\n",
      " 1.000000e-01    1.21\n",
      " 2.000000e-01    1.44\n",
      " 3.000000e-01    1.69\n",
      " 4.000000e-01    1.96\n",
      " 5.000000e-01    2.25\n",
      " 6.000000e-01    2.56\n",
      " 7.000000e-01    2.89\n",
      " 8.000000e-01    3.24\n",
      " 9.000000e-01    3.61\n",
      " 1.000000e+00    4.00\n",
      " 1.100000e+00    4.41\n",
      " 1.200000e+00    4.84\n",
      " 1.300000e+00    5.29\n",
      " 1.400000e+00    5.76\n",
      " 1.500000e+00    6.25\n",
      " 1.600000e+00    6.76\n",
      " 1.700000e+00    7.29\n",
      "dtype: float64\n",
      "-0.9999999999999996\n",
      "1.7000000000000028\n"
     ]
    }
   ],
   "source": [
    "data = values(lambda x: x ** 2 + 2 * x + 1, -1.5, 1.7, 0.1)\n",
    "print(data)\n",
    "print(min_extremum(data))\n",
    "print(max_extremum(data))"
   ]
  }
 ],
 "metadata": {
  "kernelspec": {
   "display_name": "Python 3",
   "language": "python",
   "name": "python3"
  },
  "language_info": {
   "codemirror_mode": {
    "name": "ipython",
    "version": 3
   },
   "file_extension": ".py",
   "mimetype": "text/x-python",
   "name": "python",
   "nbconvert_exporter": "python",
   "pygments_lexer": "ipython3",
   "version": "3.11.7"
  }
 },
 "nbformat": 4,
 "nbformat_minor": 2
}
