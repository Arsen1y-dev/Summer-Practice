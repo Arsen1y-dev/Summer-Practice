{
 "cells": [
  {
   "cell_type": "markdown",
   "metadata": {},
   "source": [
    "Задание 2.3 NumPy Обработка матрицы"
   ]
  },
  {
   "cell_type": "markdown",
   "metadata": {},
   "source": [
    "5. Выполнить обработку элементов прямоугольной матрицы 𝐴, имеющей 𝑛 строк и 𝑚 столбцов. Все элементы имеют целый тип. Дано целое число ℎ. Определить, какие столбцы имеют хотя бы одно такое число, а какие не имеют."
   ]
  },
  {
   "cell_type": "code",
   "execution_count": 38,
   "metadata": {},
   "outputs": [],
   "source": [
    "import numpy as np"
   ]
  },
  {
   "cell_type": "code",
   "execution_count": 57,
   "metadata": {},
   "outputs": [
    {
     "name": "stdout",
     "output_type": "stream",
     "text": [
      "Матрица A:\n",
      " [[8 1 5 8]\n",
      " [4 0 2 5]\n",
      " [5 0 8 1]\n",
      " [1 0 3 8]\n",
      " [8 4 4 0]]\n",
      "Столбцы, содержащие число 8: [0 2 3]\n",
      "Столбцы, не содержащие число 8: [1]\n"
     ]
    }
   ],
   "source": [
    "n = 5  # количество строк\n",
    "m = 4  # количество столбцов\n",
    "h = 8  # заданное целое число\n",
    "\n",
    "A = np.random.randint(0, 11, size=(n, m))\n",
    "\n",
    "contains_h = np.any(A == h, axis=0)\n",
    "\n",
    "columns_with_h = np.where(contains_h)[0]\n",
    "columns_without_h = np.where(~contains_h)[0]\n",
    "print(\"Матрица A:\\n\", A)\n",
    "print(\"Столбцы, содержащие число {}: {}\".format(h, columns_with_h))\n",
    "print(\"Столбцы, не содержащие число {}: {}\".format(h, columns_without_h))"
   ]
  }
 ],
 "metadata": {
  "kernelspec": {
   "display_name": "Python 3",
   "language": "python",
   "name": "python3"
  },
  "language_info": {
   "codemirror_mode": {
    "name": "ipython",
    "version": 3
   },
   "file_extension": ".py",
   "mimetype": "text/x-python",
   "name": "python",
   "nbconvert_exporter": "python",
   "pygments_lexer": "ipython3",
   "version": "3.11.7"
  }
 },
 "nbformat": 4,
 "nbformat_minor": 2
}
