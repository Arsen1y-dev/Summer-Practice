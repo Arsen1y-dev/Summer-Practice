{
 "cells": [
  {
   "cell_type": "markdown",
   "metadata": {},
   "source": [
    "Задание 2.2 NumPy Знакомство"
   ]
  },
  {
   "cell_type": "markdown",
   "metadata": {},
   "source": [
    "Примечание. \n",
    "Пункты 2-8 каждого варианта связаны с матрицей, созданной в пункте 1. Пункты 9-10 используют свои собственные исходные данные."
   ]
  },
  {
   "cell_type": "markdown",
   "metadata": {},
   "source": [
    "5  вариант\n",
    "\n",
    "1. Сгенерировать матрицу размером 2 × 8, заполненную целыми числами.\n",
    "\n",
    "2. Вывести на экран элемент с индексами [1, 5].\n",
    "\n",
    "3. Вывести на экран первую строку матрицы.\n",
    "\n",
    "4. Вывести на экран четвертый столбец матрицы в обратном порядке.\n",
    "\n",
    "5. Изменить форму матрицы с 2 × 8 на 4 × 4.\n",
    "\n",
    "6. Вычесть из каждого элемента матрицы заданное число.\n",
    "\n",
    "7. Найти минимум на главной диагонали матрицы.\n",
    "\n",
    "8. Найти максимальный элемент в последнем столбце.\n",
    "\n",
    "9. Дан одномерный массив. Определить процент положительных и отрицательных чисел.\n",
    "\n",
    "10. В заданной матрице подсчитать среднее геометрическое двузначных чисел, расположенных в четных столбцах матрицы."
   ]
  },
  {
   "cell_type": "code",
   "execution_count": 3,
   "metadata": {},
   "outputs": [],
   "source": [
    "import numpy as np\n",
    "import math"
   ]
  },
  {
   "cell_type": "markdown",
   "metadata": {},
   "source": [
    "1. Сгенерировать матрицу размером 2 × 8, заполненную целыми числами."
   ]
  },
  {
   "cell_type": "code",
   "execution_count": 17,
   "metadata": {},
   "outputs": [
    {
     "name": "stdout",
     "output_type": "stream",
     "text": [
      "[[58 48 82 54 72 47 16 25]\n",
      " [13 77  7 89 39 51 72 67]]\n"
     ]
    }
   ],
   "source": [
    "matrix = np.random.randint(1, 100, size=(2, 8))\n",
    "print(matrix)"
   ]
  },
  {
   "cell_type": "markdown",
   "metadata": {},
   "source": [
    "2. Вывести на экран элемент с индексами [1, 5]."
   ]
  },
  {
   "cell_type": "code",
   "execution_count": 18,
   "metadata": {},
   "outputs": [
    {
     "name": "stdout",
     "output_type": "stream",
     "text": [
      "51\n"
     ]
    }
   ],
   "source": [
    "elem = matrix[1, 5]\n",
    "print(elem)"
   ]
  },
  {
   "cell_type": "markdown",
   "metadata": {},
   "source": [
    "3. Вывести на экран первую строку матрицы."
   ]
  },
  {
   "cell_type": "code",
   "execution_count": 19,
   "metadata": {},
   "outputs": [
    {
     "name": "stdout",
     "output_type": "stream",
     "text": [
      "[58 48 82 54 72 47 16 25]\n"
     ]
    }
   ],
   "source": [
    "first_row = matrix[0]\n",
    "print(first_row)"
   ]
  },
  {
   "cell_type": "markdown",
   "metadata": {},
   "source": [
    "4. Вывести на экран четвертый столбец матрицы в обратном порядке."
   ]
  },
  {
   "cell_type": "code",
   "execution_count": 20,
   "metadata": {},
   "outputs": [
    {
     "name": "stdout",
     "output_type": "stream",
     "text": [
      "[89 54]\n"
     ]
    }
   ],
   "source": [
    "fourth_column_reversed = matrix[::-1, 3]\n",
    "print(fourth_column_reversed)"
   ]
  },
  {
   "cell_type": "markdown",
   "metadata": {},
   "source": [
    "5. Изменить форму матрицы с 2 × 8 на 4 × 4."
   ]
  },
  {
   "cell_type": "code",
   "execution_count": 21,
   "metadata": {},
   "outputs": [
    {
     "name": "stdout",
     "output_type": "stream",
     "text": [
      "[[58 48 82 54]\n",
      " [72 47 16 25]\n",
      " [13 77  7 89]\n",
      " [39 51 72 67]]\n"
     ]
    }
   ],
   "source": [
    "matrix_4x4 = matrix.reshape(4, 4)\n",
    "print(matrix_4x4)"
   ]
  },
  {
   "cell_type": "markdown",
   "metadata": {},
   "source": [
    "6. Вычесть из каждого элемента матрицы заданное число."
   ]
  },
  {
   "cell_type": "code",
   "execution_count": 37,
   "metadata": {},
   "outputs": [
    {
     "name": "stdout",
     "output_type": "stream",
     "text": [
      "[[53 43 77 49]\n",
      " [67 42 11 20]\n",
      " [ 8 72  2 84]\n",
      " [34 46 67 62]]\n"
     ]
    }
   ],
   "source": [
    "number = 5\n",
    "matrix = matrix_4x4 - number\n",
    "print(matrix)"
   ]
  },
  {
   "cell_type": "markdown",
   "metadata": {},
   "source": [
    "7. Найти минимум на главной диагонали матрицы."
   ]
  },
  {
   "cell_type": "code",
   "execution_count": 45,
   "metadata": {},
   "outputs": [
    {
     "name": "stdout",
     "output_type": "stream",
     "text": [
      "7\n"
     ]
    }
   ],
   "source": [
    "main_diag = np.diag(matrix_4x4)\n",
    "min_diag = np.min(main_diag)\n",
    "print(min_diag)"
   ]
  },
  {
   "cell_type": "markdown",
   "metadata": {},
   "source": [
    "8. Найти максимальный элемент в последнем столбце."
   ]
  },
  {
   "cell_type": "code",
   "execution_count": 26,
   "metadata": {},
   "outputs": [
    {
     "name": "stdout",
     "output_type": "stream",
     "text": [
      "89\n"
     ]
    }
   ],
   "source": [
    "last_column = matrix_4x4[:, -1]\n",
    "max_last_column = np.max(last_column)\n",
    "print(max_last_column)"
   ]
  },
  {
   "cell_type": "markdown",
   "metadata": {},
   "source": [
    "9. Дан одномерный массив. Определить процент положительных и отрицательных чисел."
   ]
  },
  {
   "cell_type": "code",
   "execution_count": 29,
   "metadata": {},
   "outputs": [
    {
     "name": "stdout",
     "output_type": "stream",
     "text": [
      "Положительные: 50.00%, Отрицательные: 50.00%\n"
     ]
    }
   ],
   "source": [
    "array = np.array([1, -3, 7, -8, 4, -2, 5, 2, -88, -27])\n",
    "positive_count = np.sum(array > 0)\n",
    "negative_count = np.sum(array < 0)\n",
    "total_count = array.size\n",
    "positive_percentage = (positive_count / total_count) * 100\n",
    "negative_percentage = (negative_count / total_count) * 100\n",
    "print(f\"Положительные: {positive_percentage:.2f}%, Отрицательные: {negative_percentage:.2f}%\")"
   ]
  },
  {
   "cell_type": "code",
   "execution_count": 28,
   "metadata": {},
   "outputs": [
    {
     "name": "stdout",
     "output_type": "stream",
     "text": [
      "Положительные: 45.45%, Отрицательные: 45.45%, Нули: 9.09%\n"
     ]
    }
   ],
   "source": [
    "array = np.array([1, -3, 7, -8, 4, -2, 5, 2, -88, -27,0])\n",
    "\n",
    "positive_count = np.sum(array > 0)\n",
    "negative_count = np.sum(array < 0)\n",
    "zero_count = np.sum(array == 0)\n",
    "total_count = array.size\n",
    "\n",
    "positive_percentage = (positive_count / total_count) * 100\n",
    "negative_percentage = (negative_count / total_count) * 100\n",
    "zero_percentage = (zero_count / total_count) * 100\n",
    "\n",
    "print(f\"Положительные: {positive_percentage:.2f}%, Отрицательные: {negative_percentage:.2f}%, Нули: {zero_percentage:.2f}%\")"
   ]
  },
  {
   "cell_type": "markdown",
   "metadata": {},
   "source": [
    "10. В заданной матрице подсчитать среднее геометрическое двузначных чисел, расположенных в четных столбцах матрицы."
   ]
  },
  {
   "cell_type": "code",
   "execution_count": 35,
   "metadata": {},
   "outputs": [
    {
     "name": "stdout",
     "output_type": "stream",
     "text": [
      "41.1560361589649\n"
     ]
    }
   ],
   "source": [
    "columns = matrix_4x4[:, ::2]\n",
    "two_digit_numbers = columns[(np.abs(columns >= 10)) & (np.abs(columns < 100))]\n",
    "geometric = np.exp(np.mean(np.log(two_digit_numbers))) if two_digit_numbers.size > 0 else float('nan')\n",
    "print(geometric)"
   ]
  }
 ],
 "metadata": {
  "kernelspec": {
   "display_name": "Python 3",
   "language": "python",
   "name": "python3"
  },
  "language_info": {
   "codemirror_mode": {
    "name": "ipython",
    "version": 3
   },
   "file_extension": ".py",
   "mimetype": "text/x-python",
   "name": "python",
   "nbconvert_exporter": "python",
   "pygments_lexer": "ipython3",
   "version": "3.11.7"
  }
 },
 "nbformat": 4,
 "nbformat_minor": 2
}
